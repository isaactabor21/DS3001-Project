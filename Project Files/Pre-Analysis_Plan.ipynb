{
 "cells": [
  {
   "cell_type": "markdown",
   "metadata": {},
   "source": [
    "# Pre-Analysis Plan"
   ]
  },
  {
   "cell_type": "markdown",
   "metadata": {},
   "source": [
    "##### Kimberly Liu & Isaac Tabor"
   ]
  },
  {
   "cell_type": "markdown",
   "metadata": {},
   "source": [
    "An observation in our study represents a single game from any season within our range. Each observation contains detailed information on both the winning and losing teams, capturing not only the final scores but also a comprehensive breakdown of game statistics. This includes metrics such as the number of points scored, shooting efficiency (field goals, three-pointers, and free throws), rebounds (offensive and defensive), assists, turnovers, steals, blocks, and personal fouls. Additionally, observations incorporate contextual details like game location, overtime periods, and team rankings from various sources. Together, these data points allow us to analyze performance trends and form the foundation for building a predictive model for March Madness outcomes.\n",
    "\n",
    "In addition to our game-level dataset, we've created a second dataframe that aggregates these observations by team for each season. This aggregation provides a season-long summary of a team’s performance. "
   ]
  }
 ],
 "metadata": {
  "language_info": {
   "name": "python"
  }
 },
 "nbformat": 4,
 "nbformat_minor": 2
}
